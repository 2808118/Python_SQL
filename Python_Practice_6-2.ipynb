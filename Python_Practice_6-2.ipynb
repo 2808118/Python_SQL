{
  "nbformat": 4,
  "nbformat_minor": 0,
  "metadata": {
    "colab": {
      "provenance": []
    },
    "kernelspec": {
      "name": "python3",
      "display_name": "Python 3"
    },
    "language_info": {
      "name": "python"
    }
  },
  "cells": [
    {
      "cell_type": "markdown",
      "source": [
        "# Python Practice\n",
        "\n",
        "All the description and excercises are from W3school.\n",
        "\n",
        "Please go to W3school for any python learning and practice here.\n",
        "\n",
        "https://www.w3schools.com/python/python_syntax.asp"
      ],
      "metadata": {
        "id": "WQot3AACGhYj"
      }
    },
    {
      "cell_type": "markdown",
      "source": [
        "## What is Python?\n",
        "Python is a poplular programming language. It was created by Guido van Rossum, and released in 1991.\n",
        "\n",
        "It is used for: \n",
        "\n",
        "- web development(server-side),\n",
        "- software development,\n",
        "- mathematics,\n",
        "- system scripting.\n",
        "\n",
        "## What can Python do?\n",
        "\n",
        "- Python can be used on a server to create web applications.\n",
        "- Python can be used alongside software to create workflows.\n",
        "- Python can connect to database systems. It can alsop read and modify files.\n",
        "- Python can be used to handle big data and perform complex mathematics.\n",
        "- Python can be used for rapid prototyping, or for production-ready software development."
      ],
      "metadata": {
        "id": "cbWchAfeHT-l"
      }
    },
    {
      "cell_type": "markdown",
      "source": [
        "## Question 1:\n",
        "\n",
        "Use python to output \"Hello World!\"."
      ],
      "metadata": {
        "id": "-hiENUOPIIyL"
      }
    },
    {
      "cell_type": "code",
      "execution_count": null,
      "metadata": {
        "id": "pgx14YPjGGUI"
      },
      "outputs": [],
      "source": [
        "print(\"Hello World!\")"
      ]
    },
    {
      "cell_type": "markdown",
      "source": [
        "## Question 2:\n",
        "\n",
        "How to insatll Python and check versions"
      ],
      "metadata": {
        "id": "Z8JcQa5-IZMu"
      }
    },
    {
      "cell_type": "code",
      "source": [
        "# On a windows PC, Go to command Line (cmd.exe):\n",
        "C:\\users\\Your name>Python --version\n",
        "\n",
        "# On a Linux or Mac, open the command line (Linux) or the terminal (Mac):\n",
        "python --version"
      ],
      "metadata": {
        "id": "OseI3zYjGsDG"
      },
      "execution_count": null,
      "outputs": []
    },
    {
      "cell_type": "markdown",
      "source": [
        "## Question 3:\n",
        "\n",
        "How to quickstart a python file and output \"Hello World\"?\n",
        "\n",
        "**Note: Python is an interpreted programming language, this means that as a developer you write Python (py.) files in a text editor and then put those files into the python interpreter to be executed.**"
      ],
      "metadata": {
        "id": "zntMGZ2-JhER"
      }
    },
    {
      "cell_type": "code",
      "source": [
        "# 1. In any text editor, write:\n",
        "print(\"Hello World!\")\n",
        "# 2. Save as helloworld.py\n",
        "# 3. Go to the command line or terminal\n",
        "C:\\users\\Your name>python helloworld.py"
      ],
      "metadata": {
        "id": "wlOwBut2Jp26"
      },
      "execution_count": null,
      "outputs": []
    },
    {
      "cell_type": "markdown",
      "source": [
        "## Question 4:\n",
        "\n",
        "Python uses indentation to indicte a block of code.\n",
        "Rearrange the following python code use the correct indentation.\n",
        "\n",
        "`if 5>2: print(\"Five is greater than two!\")`\n",
        "\n",
        "**Note: the number of spaces is up to you as a programmer, the most common use is four, but it has to be at leart one.**"
      ],
      "metadata": {
        "id": "jKeNUT0bLHj8"
      }
    },
    {
      "cell_type": "code",
      "source": [
        "if 5>2:\n",
        "  print(\"Five is greater than two!\")"
      ],
      "metadata": {
        "id": "L1Hwj4DjLksp"
      },
      "execution_count": null,
      "outputs": []
    },
    {
      "cell_type": "markdown",
      "source": [
        "## Question 5:\n",
        "\n",
        "In Python, variables are created when you assign a value to it. \n",
        "\n",
        "Create a variable x and assign an integer 10 to x and create a variable y and assign the string \"You are successful!\" to y.\n",
        "\n",
        "And output x and y."
      ],
      "metadata": {
        "id": "OpLIs3I5MEPI"
      }
    },
    {
      "cell_type": "code",
      "source": [
        "x = 10\n",
        "y = \"You are successful!\"\n",
        "print(x)\n",
        "print(y)"
      ],
      "metadata": {
        "colab": {
          "base_uri": "https://localhost:8080/"
        },
        "id": "rPn3TYELMjlL",
        "outputId": "dfd595cf-9ed3-42d7-df9d-53485d186f42"
      },
      "execution_count": null,
      "outputs": [
        {
          "output_type": "stream",
          "name": "stdout",
          "text": [
            "10\n",
            "You are successful!\n"
          ]
        }
      ]
    },
    {
      "cell_type": "markdown",
      "source": [
        "## Question 6:\n",
        "\n",
        "**Comments**\n",
        "\n",
        "Python has commenting capability for the purpose of in-code documentation.\n",
        "\n",
        "Comments start with a #, and Python will ignore them.\n",
        "\n",
        "Add in a comment \"This is a comment\" and output \"You are successful!\"."
      ],
      "metadata": {
        "id": "CBJuUoVDNLPP"
      }
    },
    {
      "cell_type": "code",
      "source": [
        "# This is a comment.\n",
        "print(\"You are successful!\")"
      ],
      "metadata": {
        "id": "gv-oC5lrNwmo"
      },
      "execution_count": null,
      "outputs": []
    },
    {
      "cell_type": "markdown",
      "source": [
        "## Question 7:\n",
        "\n",
        "**Comments**\n",
        "\n",
        "Comments can be placed at the end of a line, and Python will ignore the rest of the line.\n",
        "\n",
        "Add in a comment of \"This is a comment\" at the end of the line and output \"You are successful!\".\n",
        "\n"
      ],
      "metadata": {
        "id": "6eKGPQ0RN15r"
      }
    },
    {
      "cell_type": "code",
      "source": [
        "print(\"You are successful!\") # This is a comment."
      ],
      "metadata": {
        "id": "7k6wUYddOghW"
      },
      "execution_count": null,
      "outputs": []
    },
    {
      "cell_type": "markdown",
      "source": [
        "# Question 8:\n",
        "\n",
        "**Comments**\n",
        "\n",
        "A comment does not have to explian the code, it can also be used to prevent Python from executing code.\n",
        "\n",
        "Use the above questions' codes.\n",
        "\n",
        "Write two line of codes and add # in front of the first line."
      ],
      "metadata": {
        "id": "agt_Q0zlOy89"
      }
    },
    {
      "cell_type": "code",
      "source": [
        "# print(\"You are successful!\")\n",
        "print(\"You are successful!\")"
      ],
      "metadata": {
        "colab": {
          "base_uri": "https://localhost:8080/"
        },
        "id": "z0yHp9QRPDpK",
        "outputId": "077330d6-dddd-44cc-fdb2-bb5217d58076"
      },
      "execution_count": null,
      "outputs": [
        {
          "output_type": "stream",
          "name": "stdout",
          "text": [
            "You are successful!\n"
          ]
        }
      ]
    },
    {
      "cell_type": "markdown",
      "source": [
        "## Question 9:\n",
        "\n",
        "**Comments**\n",
        "\n",
        "Python does not really have a syntax for multiline comments.\n",
        "\n",
        "To add a multiline comment you could insert a # for each line."
      ],
      "metadata": {
        "id": "cUB-bulSPatr"
      }
    },
    {
      "cell_type": "code",
      "source": [
        "#This is a comment\n",
        "#written in\n",
        "#more than just one line\n",
        "print(\"You are successful!\")"
      ],
      "metadata": {
        "id": "rq029NVVQq9P"
      },
      "execution_count": null,
      "outputs": []
    },
    {
      "cell_type": "markdown",
      "source": [
        "## Question 10:\n",
        "\n",
        "**Variables**\n",
        "\n",
        "Python has no command for declaring a variable.\n",
        "\n",
        "A variable is created the moment you first assign a value to it.\n",
        "\n",
        "Assign an integer 15 to x and \"Jehoshaphat\" to y and output x and y.\n"
      ],
      "metadata": {
        "id": "FxUzWYCoRJt0"
      }
    },
    {
      "cell_type": "code",
      "source": [
        "x = 15\n",
        "y = \"Jehoshaphat\"\n",
        "\n",
        "print(x)\n",
        "print(y)"
      ],
      "metadata": {
        "colab": {
          "base_uri": "https://localhost:8080/"
        },
        "id": "3QguNVvGSG5s",
        "outputId": "3ce6122a-3882-48a3-ddc1-c0b6f8dfe294"
      },
      "execution_count": null,
      "outputs": [
        {
          "output_type": "stream",
          "name": "stdout",
          "text": [
            "15\n",
            "Jehoshaphat\n"
          ]
        }
      ]
    },
    {
      "cell_type": "markdown",
      "source": [
        "## Question 11:\n",
        "\n",
        "**Variables**\n",
        "\n",
        "Variables do not need to be declared with any particular type, and can even change type after they have been set.\n",
        "\n",
        "Assign an integer 15 to x;\n",
        "\n",
        "Then assign a string \"Nick\" to x.\n",
        "\n",
        "Output x."
      ],
      "metadata": {
        "id": "wQqG2ONfRN-2"
      }
    },
    {
      "cell_type": "code",
      "source": [
        "x = 4       # x is of type int\n",
        "x = \"Nick\"  # x is now of type str\n",
        "\n",
        "print(x)"
      ],
      "metadata": {
        "id": "FnIyRiywS1zq"
      },
      "execution_count": null,
      "outputs": []
    },
    {
      "cell_type": "markdown",
      "source": [
        "## Question 12:\n",
        "\n",
        "**Casting**\n",
        "\n",
        "If you want to specify the data type of a variable, this can be done with casting.\n",
        "\n",
        "Assign a string \"3\" to x;\n",
        "\n",
        "Assign a integer 3 to y;\n",
        "\n",
        "Assign a float 3 to z;\n",
        "\n",
        "Output x, y and z.\n",
        "\n"
      ],
      "metadata": {
        "id": "19BPMSY4RPZd"
      }
    },
    {
      "cell_type": "code",
      "source": [
        "x = str(3)    # x will be '3'\n",
        "y = int(3)    # y will be 3\n",
        "z = float(3)  # z will be 3.0\n",
        "\n",
        "print(x)\n",
        "print(y)\n",
        "print(z)"
      ],
      "metadata": {
        "colab": {
          "base_uri": "https://localhost:8080/"
        },
        "id": "p9AHSeyKVHfh",
        "outputId": "97af525b-b82d-4792-d970-1486718884ca"
      },
      "execution_count": null,
      "outputs": [
        {
          "output_type": "stream",
          "name": "stdout",
          "text": [
            "3\n",
            "3\n",
            "3.0\n"
          ]
        }
      ]
    },
    {
      "cell_type": "markdown",
      "source": [
        "## Question 13:\n",
        "\n",
        "**Data Type**\n",
        "\n",
        "Assign an integer 15 to x;\n",
        "\n",
        "Assign a string \"Nick\" to y;\n",
        "\n",
        "Show the data type of x and y.\n",
        "\n",
        "*Hint: You can get the data type of a variable with the type() funciton.*"
      ],
      "metadata": {
        "id": "mLdGVCQBRRhS"
      }
    },
    {
      "cell_type": "code",
      "source": [
        "x = 15\n",
        "y = \"Nick\"\n",
        "\n",
        "print(type(x))\n",
        "print(type(y))"
      ],
      "metadata": {
        "colab": {
          "base_uri": "https://localhost:8080/"
        },
        "id": "DQsWClw7VtW-",
        "outputId": "5ccb05d8-695b-42ad-e9e1-fa980e3d49af"
      },
      "execution_count": null,
      "outputs": [
        {
          "output_type": "stream",
          "name": "stdout",
          "text": [
            "<class 'int'>\n",
            "<class 'str'>\n"
          ]
        }
      ]
    },
    {
      "cell_type": "markdown",
      "source": [
        "## Question 14:\n",
        "\n",
        "**Single or Double Quotes**\n",
        "\n",
        "Assign the string \"Nick\" to x using single or double quotes;\n",
        "\n",
        "And output x to see if they are different."
      ],
      "metadata": {
        "id": "y1HgkBb0RTCq"
      }
    },
    {
      "cell_type": "code",
      "source": [
        "x = \"Nick\"\n",
        "\n",
        "print(x)\n",
        "\n",
        "# is the same as \n",
        "\n",
        "x = 'Nick'\n",
        "\n",
        "print(x)"
      ],
      "metadata": {
        "colab": {
          "base_uri": "https://localhost:8080/"
        },
        "id": "QSfIZzreWU5t",
        "outputId": "af76b0c2-a8a7-474c-c2a7-55ba39202759"
      },
      "execution_count": null,
      "outputs": [
        {
          "output_type": "stream",
          "name": "stdout",
          "text": [
            "Nick\n",
            "Nick\n"
          ]
        }
      ]
    },
    {
      "cell_type": "markdown",
      "source": [
        "## Question 15:\n",
        "\n",
        "**Case-Sensitive**\n",
        "\n",
        "Assign an integer 15 to a;\n",
        "\n",
        "then assign a string \"Nick\" to A;\n",
        "\n",
        "print a and A to see if A will overwrite a."
      ],
      "metadata": {
        "id": "Iwim2rQNRVdE"
      }
    },
    {
      "cell_type": "code",
      "source": [
        "a = 15\n",
        "A = \"Nick\"\n",
        "\n",
        "print(a)\n",
        "print(A)\n",
        "# A will not overwrite a."
      ],
      "metadata": {
        "id": "r4LxDZZvW6fS"
      },
      "execution_count": null,
      "outputs": []
    },
    {
      "cell_type": "markdown",
      "source": [
        "## Question 16:\n",
        "\n",
        "**Variable names**\n",
        "\n",
        "A variable can have a short name (like x and y) or a more descriptive name (age, carname, total_volume). Rules for Python varialbes are:\n",
        "\n",
        "- A variable name must start with a letter or the underscore character.\n",
        "- A varialbe name cannot start with a number.\n",
        "- A variable name can only contain alpha-numeric characters and underscores(A-z, 0-9, and _).\n",
        "- Variable names are case-sensitive.\n",
        "\n",
        "Assing the string \"Nick\" to the following variable names and output them one by one to see if the names work.\n",
        "\n",
        "**Group one: **\n",
        "\n",
        "- myvar\n",
        "- my_var\n",
        "- _my_var\n",
        "- myVar\n",
        "- MYVAR\n",
        "- myvar2\n",
        "\n",
        "**Group Two:**\n",
        "\n",
        "- 2myvar\n",
        "- my-var\n",
        "- my var\n",
        "\n"
      ],
      "metadata": {
        "id": "4T023QETRXl1"
      }
    },
    {
      "cell_type": "code",
      "source": [
        "# Here is the example; please try the rest of them by yourself.\n",
        "myvar = \"Nick\"\n",
        "print(myvar)"
      ],
      "metadata": {
        "colab": {
          "base_uri": "https://localhost:8080/"
        },
        "id": "t-6BpTSHYNnm",
        "outputId": "5d024d86-2379-49e7-cb6f-e210891497eb"
      },
      "execution_count": null,
      "outputs": [
        {
          "output_type": "stream",
          "name": "stdout",
          "text": [
            "Nick\n"
          ]
        }
      ]
    },
    {
      "cell_type": "markdown",
      "source": [
        "## Question 17:\n",
        "\n",
        "**Multi Words Variable Names**\n",
        "\n",
        "Variable names with more than one word can be difficult to read.\n",
        "\n",
        "There are three techniques you can use to make them more readable:\n",
        "\n",
        "1. Camel Case: each word, except the first, starts with a capital letter.\n",
        "\n",
        "`myVariableName = \"Nick\"`\n",
        "\n",
        "2. Pascal case: each word starts with a capital letter.\n",
        "\n",
        "`MyVariableName = \"Nick\"`\n",
        "\n",
        "3. Snake Case: each word is separated by an underscore character.\n",
        "\n",
        "my_variable_name = \"Nick\"\n",
        "\n",
        "Use the above variable name examples to output the results.\n"
      ],
      "metadata": {
        "id": "nYOeciooRZKn"
      }
    },
    {
      "cell_type": "code",
      "source": [
        "# Camel Case: each word, except the first, starts with a capital letter.\n",
        "myVariableName = \"Nick\"\n",
        "print(myVariableName)\n",
        "\n",
        "# Pascal case: each word starts with a capital letter.\n",
        "MyVariableName = \"Nick\"\n",
        "print(MyVariableName)\n",
        "\n",
        "# Snake Case: each word is separated by an underscore character.\n",
        "my_variable_name = \"Nick\"\n",
        "print(my_variable_name)"
      ],
      "metadata": {
        "colab": {
          "base_uri": "https://localhost:8080/"
        },
        "id": "4IwPg9nYaRWO",
        "outputId": "b17dd836-eb94-4b6c-f266-2d7b0d79c7b3"
      },
      "execution_count": null,
      "outputs": [
        {
          "output_type": "stream",
          "name": "stdout",
          "text": [
            "Nick\n",
            "Nick\n",
            "Nick\n"
          ]
        }
      ]
    },
    {
      "cell_type": "markdown",
      "source": [
        "## Question 18:\n",
        "\n",
        "**Many Values to Multiple Variables**\n",
        "\n",
        "Python allows you to assign values to mulitple variables in one line.\n",
        "\n",
        "Assign three string values (\"Orange\", \"Banana\", \"Cherry\") to three variables (x, y, z);\n",
        "\n",
        "Output x, y, z."
      ],
      "metadata": {
        "id": "QkUHKJnjRajP"
      }
    },
    {
      "cell_type": "code",
      "source": [
        "x, y, z = \"Orange\", \"Banana\", \"Cherry\"\n",
        "\n",
        "print(x)\n",
        "print(y)\n",
        "print(z)"
      ],
      "metadata": {
        "colab": {
          "base_uri": "https://localhost:8080/"
        },
        "id": "JAag0_b0sQG_",
        "outputId": "4f070ca6-ddb7-4fd5-a4fa-10e5a0e2ac58"
      },
      "execution_count": null,
      "outputs": [
        {
          "output_type": "stream",
          "name": "stdout",
          "text": [
            "Orange\n",
            "Banana\n",
            "Cherry\n"
          ]
        }
      ]
    },
    {
      "cell_type": "markdown",
      "source": [
        "## Question 19:\n",
        "\n",
        "**One Value to Multiple Variables**\n",
        "\n",
        "You can assign the same value to multiple variables in one line.\n",
        "\n",
        "Assign one string value \"Orange\" to three variables (x, y , z);\n",
        "\n",
        "Output x, y, z."
      ],
      "metadata": {
        "id": "qwOFUrSPRb66"
      }
    },
    {
      "cell_type": "code",
      "source": [
        "x = y = z = \"Orange\"\n",
        "\n",
        "print(x)\n",
        "print(y)\n",
        "print(z)"
      ],
      "metadata": {
        "id": "Q69ZD7tHsrD7"
      },
      "execution_count": null,
      "outputs": []
    },
    {
      "cell_type": "markdown",
      "source": [
        "## Question 20:\n",
        "\n",
        "**Unpack a Collection**\n",
        "\n",
        "If you have a collection of values in a list, tuple etc. Python allows you to extract the values into variables. This is called unpacking.\n",
        "\n",
        "The list fruits = [\"apple\", \"banana\", \"cherry\"];\n",
        "\n",
        "Assign the three elements of the list to three variables x,y,z;\n",
        "\n",
        "Output x,y,z."
      ],
      "metadata": {
        "id": "FBz3p8N3RdUD"
      }
    },
    {
      "cell_type": "code",
      "source": [
        "# The same number of variables is assigned with the same numbers of elements in the list.\n",
        "fruits = [\"apple\", \"banana\", \"cherry\"]\n",
        "x, y, z = fruits \n",
        "\n",
        "print(x)\n",
        "print(y)\n",
        "print(z)"
      ],
      "metadata": {
        "id": "a5u8N_ZZtPrK"
      },
      "execution_count": null,
      "outputs": []
    },
    {
      "cell_type": "markdown",
      "source": [
        "## Question 21:\n",
        "\n",
        "**Global Variables**\n",
        "\n",
        "Variables that are created outside of a function are known as global variables.\n",
        "\n",
        "Global variables can be used by everyone, both inside of functions and outside.\n",
        "\n",
        "Create a variable called x and assign a string value \"awesome\";\n",
        "\n",
        "Create a function to print \"Python is awesome\" by using the global variable x."
      ],
      "metadata": {
        "id": "s2apjaJuReu0"
      }
    },
    {
      "cell_type": "code",
      "source": [
        "x = \"awesome\"\n",
        "\n",
        "def myfuck():\n",
        "  print(\"Python is \" + x)\n",
        "\n",
        "myfuck()"
      ],
      "metadata": {
        "colab": {
          "base_uri": "https://localhost:8080/"
        },
        "id": "Y2gNVTvyuZVB",
        "outputId": "9db80336-5288-4787-990d-bd17d63df3c3"
      },
      "execution_count": null,
      "outputs": [
        {
          "output_type": "stream",
          "name": "stdout",
          "text": [
            "Python is awesome\n"
          ]
        }
      ]
    },
    {
      "cell_type": "markdown",
      "source": [
        "## Question 22:\n",
        "\n",
        "**Global Variable**\n",
        "\n",
        "If you create a variable inside a function, with the same name as the global variable, this variable will be local, and can only be used inside the function. The global variable with the same name will remain as it was, global and with the original value.\n",
        "\n",
        "Create a global variable called x and assign a string value \"awesome\";\n",
        "\n",
        "Create a function to create a local variable x and assign the string value \"Fantastic\" to x; then the function should print (\"Python is \" + x) by using the variable x (local).\n",
        "\n",
        "Outside the function, output \"Python is \" + x.\n",
        "\n",
        "Then compare the two outputs.\n",
        "\n"
      ],
      "metadata": {
        "id": "Tejag8_3RgLe"
      }
    },
    {
      "cell_type": "code",
      "source": [
        "x = \"awesome\"\n",
        "\n",
        "def myfunc():\n",
        "  x = \"fantastic\"\n",
        "  print(\"Python is \" + x)\n",
        "\n",
        "myfunc()\n",
        "\n",
        "print(\"Python is \" + x)"
      ],
      "metadata": {
        "colab": {
          "base_uri": "https://localhost:8080/"
        },
        "id": "qiTIS5B3kI_z",
        "outputId": "ea3c4e36-ba7f-427e-868a-2feeb00f159f"
      },
      "execution_count": null,
      "outputs": [
        {
          "output_type": "stream",
          "name": "stdout",
          "text": [
            "Python is fantastic\n",
            "Python is awesome\n"
          ]
        }
      ]
    },
    {
      "cell_type": "markdown",
      "source": [
        "## Question 23:\n",
        "\n",
        "**Global Keyword**\n",
        "\n",
        "Normally, when you create a variable inside a function, that variable is local, and can only be used inside that function.\n",
        "\n",
        "To create a global variable inside a function, you can use the global keyword.\n",
        "\n",
        "Create a function to print \"Python is \" + x, and make x a global variable inside the function;\n",
        "\n",
        "Inside the function, assign the string value \"fantastic\" to x;\n",
        "\n",
        "Outside the function, print \"Python is \" +x;\n",
        "\n",
        "Compare the two outputs.\n",
        "\n",
        "Hints: the two results should be the same."
      ],
      "metadata": {
        "id": "Ynb3a-bFRhpx"
      }
    },
    {
      "cell_type": "code",
      "source": [
        "def myfunc():\n",
        "  global x\n",
        "  x = \"fantastic\"\n",
        "  print(\"Python is \" + x)\n",
        "\n",
        "myfunc()\n",
        "\n",
        "print(\"Python is \" + x)"
      ],
      "metadata": {
        "colab": {
          "base_uri": "https://localhost:8080/"
        },
        "id": "85Uf6r5BX_pT",
        "outputId": "be6155c8-1b40-4e64-c294-2037c7bcf53e"
      },
      "execution_count": null,
      "outputs": [
        {
          "output_type": "stream",
          "name": "stdout",
          "text": [
            "Python is fantastic\n",
            "Python is fantastic\n"
          ]
        }
      ]
    },
    {
      "cell_type": "markdown",
      "source": [
        "## Question 24:\n",
        "\n",
        "**Data type**\n",
        "\n",
        "Python has the following data types built-in by default:\n",
        "\n",
        "- Text type: str\n",
        "- Numeric type: int, float, complex\n",
        "- Sequence type: list, tuple, range\n",
        "- Mapping type: dict\n",
        "- Set type: set, frozenset\n",
        "- Boolean type: bool\n",
        "- Binary type: bytes, bytearray, memoryview\n",
        "- None Type: NoneType\n",
        "\n",
        "Create an variable x and assign an integer value of 15 to x;\n",
        "Show the data type of x.\n",
        "\n",
        "Hint: You can assign different types of data to x and use type() to find out the data type of x."
      ],
      "metadata": {
        "id": "bXapISEyYVsL"
      }
    },
    {
      "cell_type": "code",
      "source": [
        "x = str(\"Hello World\")\n",
        "print(type(x))\n",
        "\n",
        "x = int(20)\t\n",
        "print(type(x))\n",
        "\n",
        "x = float(20.5)\n",
        "print(type(x))\n",
        "\n",
        "x = complex(1j)\t\n",
        "print(type(x))\n",
        "\n",
        "# list(), tuple(), set() need double brackets.\n",
        "x = list((\"apple\", \"banana\", \"cherry\")) \n",
        "print(type(x))\n",
        "\n",
        "x = tuple((\"apple\", \"banana\", \"cherry\"))\t\n",
        "print(type(x))\n",
        "\n",
        "x = range(6)\n",
        "print(type(x))\n",
        "\n",
        "x = dict(name=\"John\", age=36)\t\n",
        "print(type(x))\n",
        "\n",
        "x = set((\"apple\", \"banana\", \"cherry\"))\n",
        "print(type(x))\n",
        "\n",
        "x = frozenset((\"apple\", \"banana\", \"cherry\"))\t\n",
        "print(type(x))\n",
        "\n",
        "x = bool(5)\t\n",
        "print(type(x))\n",
        "\n",
        "x = bytes(5)\n",
        "print(type(x))\n",
        "\n",
        "x = bytearray(5)\n",
        "print(type(x))\n",
        "\n",
        "x = memoryview(bytes(5))\n",
        "print(type(x))"
      ],
      "metadata": {
        "colab": {
          "base_uri": "https://localhost:8080/"
        },
        "id": "F49s0oQMbNqR",
        "outputId": "732759ef-d792-465e-bbab-d0362181e42d"
      },
      "execution_count": null,
      "outputs": [
        {
          "output_type": "stream",
          "name": "stdout",
          "text": [
            "<class 'str'>\n",
            "<class 'int'>\n",
            "<class 'float'>\n",
            "<class 'complex'>\n",
            "<class 'list'>\n",
            "<class 'tuple'>\n",
            "<class 'range'>\n",
            "<class 'dict'>\n",
            "<class 'set'>\n",
            "<class 'frozenset'>\n",
            "<class 'bool'>\n",
            "<class 'bytes'>\n",
            "<class 'bytearray'>\n",
            "<class 'memoryview'>\n"
          ]
        }
      ]
    },
    {
      "cell_type": "markdown",
      "source": [
        "## Question 25:\n",
        "\n",
        "**Type Conversion/Casting**\n",
        "\n",
        "You can convert from one type to another with the int(), float(), and complex() methods.\n",
        "\n",
        "Make x =10, y = 2.98;\n",
        "\n",
        "Convert x to float as a, y to integer as b and x to complex as c;\n",
        "\n",
        "print a, b and c;\n",
        "\n",
        "print the data type of a, b and c.\n"
      ],
      "metadata": {
        "id": "-8dyN35cYY4y"
      }
    },
    {
      "cell_type": "code",
      "source": [
        "x = 1 #int\n",
        "y = 2.98 # float\n",
        "\n",
        "# convert from int to float\n",
        "a = float(x)\n",
        "\n",
        "#convert from float to int\n",
        "b = int(y)\n",
        "\n",
        "#convert from int to complex\n",
        "c = complex(x)\n",
        "\n",
        "print(a)\n",
        "print(b)\n",
        "print(c)\n",
        "\n",
        "print(type(a))\n",
        "print(type(b))\n",
        "print(type(c))"
      ],
      "metadata": {
        "colab": {
          "base_uri": "https://localhost:8080/"
        },
        "id": "ZV8kI9WDd4Cn",
        "outputId": "72688533-e45f-4cc2-a777-bd5dadda9c0a"
      },
      "execution_count": null,
      "outputs": [
        {
          "output_type": "stream",
          "name": "stdout",
          "text": [
            "1.0\n",
            "2\n",
            "(1+0j)\n",
            "<class 'float'>\n",
            "<class 'int'>\n",
            "<class 'complex'>\n"
          ]
        }
      ]
    },
    {
      "cell_type": "markdown",
      "source": [
        "## Question 26:\n",
        "\n",
        "**Random Number**\n",
        "\n",
        "Python does not have a random() function to make a random number, but Python has a built-in module called random that can be used to make random numbers.\n",
        "\n",
        "Import random module, and display a random number from 1 and 9.\n"
      ],
      "metadata": {
        "id": "_idYOx2NYale"
      }
    },
    {
      "cell_type": "code",
      "source": [
        "import random\n",
        "\n",
        "print(random.randrange(1,10))"
      ],
      "metadata": {
        "colab": {
          "base_uri": "https://localhost:8080/"
        },
        "id": "8bA355jCfSrK",
        "outputId": "be9afe46-fad9-42cc-e3b2-f7c5c576484e"
      },
      "execution_count": null,
      "outputs": [
        {
          "output_type": "stream",
          "name": "stdout",
          "text": [
            "3\n"
          ]
        }
      ]
    },
    {
      "cell_type": "markdown",
      "source": [
        "## Question 27:\n",
        "\n",
        "**Multiline Strings**\n",
        "\n",
        "You can assign a multiline string to a variable by using three quotes.\n",
        "\n",
        "Create a variable a and assign the following strings to a in multiple lines.\n",
        "\n",
        "\" Lorem ipsum dolor sit amet,\n",
        "\n",
        "consectetur adipiscing elit,\n",
        "\n",
        "sed do eiusmod tempor incididunt\n",
        "\n",
        "ut labore et dolore magna aliqua.\""
      ],
      "metadata": {
        "id": "nI5WvpmeYci4"
      }
    },
    {
      "cell_type": "code",
      "source": [
        "a = \"\"\"Lorem ipsum dolor sit amet,\n",
        "consectetur adipiscing elit,\n",
        "sed do eiusmod tempor incididunt\n",
        "ut labore et dolore magna aliqua.\"\"\"\n",
        "print(a)"
      ],
      "metadata": {
        "colab": {
          "base_uri": "https://localhost:8080/"
        },
        "id": "HeTxgGM1hJZ0",
        "outputId": "abb4d175-abcd-463e-b760-3f6a05b4b091"
      },
      "execution_count": null,
      "outputs": [
        {
          "output_type": "stream",
          "name": "stdout",
          "text": [
            "Lorem ipsum dolor sit amet,\n",
            "consectetur adipiscing elit,\n",
            "sed do eiusmod tempor incididunt\n",
            "ut labore et dolore magna aliqua.\n"
          ]
        }
      ]
    },
    {
      "cell_type": "markdown",
      "source": [
        "## Question 28:\n",
        "\n",
        "**Strings are Arrays**\n",
        "\n",
        "Like many other popular programming languages, strings in Python are arrays of bytes representing unicode characters.\n",
        "\n",
        "Square brackets can be used to access elements of the strings.\n",
        "\n",
        "Create a variable x and assign \"Hello World!\" to x;\n",
        "\n",
        "Print the first character of the strings.\n",
        "\n",
        "Hint: Remember that the first character has the position 0."
      ],
      "metadata": {
        "id": "bM5SG_xaYeTp"
      }
    },
    {
      "cell_type": "code",
      "source": [
        "x = \"Hello World!\"\n",
        "print(x[0])"
      ],
      "metadata": {
        "colab": {
          "base_uri": "https://localhost:8080/"
        },
        "id": "zpcB8D0Kh9vv",
        "outputId": "54032041-a848-4844-91f1-be3223c93e5f"
      },
      "execution_count": null,
      "outputs": [
        {
          "output_type": "stream",
          "name": "stdout",
          "text": [
            "H\n"
          ]
        }
      ]
    },
    {
      "cell_type": "markdown",
      "source": [
        "## Question 29:\n",
        "\n",
        "**Loop through a String**\n",
        "\n",
        "Since strings are arrays, we can loop through the characters in a string, with a for loop.\n",
        "\n",
        "Use for loop to print all the characters of the string \"banana\"."
      ],
      "metadata": {
        "id": "3eVYz2ELYg6s"
      }
    },
    {
      "cell_type": "code",
      "source": [
        "for x in \"banana\":\n",
        "  print(x)"
      ],
      "metadata": {
        "colab": {
          "base_uri": "https://localhost:8080/"
        },
        "id": "pfCQ6g5OitIA",
        "outputId": "39e3c3ea-a7cb-4405-bf65-6824d05e3ff8"
      },
      "execution_count": null,
      "outputs": [
        {
          "output_type": "stream",
          "name": "stdout",
          "text": [
            "b\n",
            "a\n",
            "n\n",
            "a\n",
            "n\n",
            "a\n"
          ]
        }
      ]
    },
    {
      "cell_type": "markdown",
      "source": [
        "## Question 30:\n",
        "\n",
        "**String length**\n",
        "\n",
        "To get the length of a string, use the len() function.\n",
        "\n",
        "Create a variable x and assign \"Hello World!\" to x;\n",
        "\n",
        "Find out the length of x."
      ],
      "metadata": {
        "id": "I_LkYh5OYjEj"
      }
    },
    {
      "cell_type": "code",
      "source": [
        "x = \"Hello World!\"\n",
        "print(len(x))"
      ],
      "metadata": {
        "colab": {
          "base_uri": "https://localhost:8080/"
        },
        "id": "4gk5TylJjGeq",
        "outputId": "d59671d4-9b83-40ad-e0ab-a4d7493ce9dc"
      },
      "execution_count": null,
      "outputs": [
        {
          "output_type": "stream",
          "name": "stdout",
          "text": [
            "13\n"
          ]
        }
      ]
    },
    {
      "cell_type": "markdown",
      "source": [
        "## Question 31:\n",
        "\n",
        "**Check String**\n",
        "\n",
        "To check if a certain phrase or character is present in a string, we can use the keyword in.\n",
        "\n",
        "Make text = \"The best things in life are free!\";\n",
        "\n",
        "Check if \"free\" is present in text."
      ],
      "metadata": {
        "id": "Xr8zpWBSYlai"
      }
    },
    {
      "cell_type": "code",
      "source": [
        "text = \"The best things in life are free!\"\n",
        "print(\"free\" in text)"
      ],
      "metadata": {
        "colab": {
          "base_uri": "https://localhost:8080/"
        },
        "id": "oDE8pDPVjqbO",
        "outputId": "7cf31ae6-433d-47c6-dcb6-8a854636f816"
      },
      "execution_count": null,
      "outputs": [
        {
          "output_type": "stream",
          "name": "stdout",
          "text": [
            "True\n"
          ]
        }
      ]
    },
    {
      "cell_type": "markdown",
      "source": [
        "## Question 32:\n",
        "\n",
        "**Check String**\n",
        "\n",
        "If statement can be used to check strings as well.\n",
        "\n",
        "Make text = \"The best things in life are free\";\n",
        "\n",
        "Use if statement to check if \"free\" is present in text;\n",
        "\n",
        "Print \"Yes, \"free\" is present\" if present."
      ],
      "metadata": {
        "id": "7FOcFMuZYnIl"
      }
    },
    {
      "cell_type": "code",
      "source": [
        "text = \"The best thigns in life are free!\"\n",
        "if \"free\" in text:\n",
        "  print(\"Yes, 'free' is present.\")"
      ],
      "metadata": {
        "colab": {
          "base_uri": "https://localhost:8080/"
        },
        "id": "8asD0LqnkWp-",
        "outputId": "bf2283f9-5143-40fd-8225-db0ea59b9b87"
      },
      "execution_count": null,
      "outputs": [
        {
          "output_type": "stream",
          "name": "stdout",
          "text": [
            "Yes, 'free' is present.\n"
          ]
        }
      ]
    },
    {
      "cell_type": "markdown",
      "source": [
        "## Question 33:\n",
        "\n",
        "**Check String**\n",
        "\n",
        "To check if a certain phrase or character is NOT present in a string, we can use the keyword in.\n",
        "\n",
        "Make text = \"The best things in life are free!\";\n",
        "\n",
        "Check if \"expensive\" is NOT present in text."
      ],
      "metadata": {
        "id": "be2nWntEYo9_"
      }
    },
    {
      "cell_type": "code",
      "source": [
        "text = \"The best things in life are free!\"\n",
        "\n",
        "print(\"expensive\" not in text)"
      ],
      "metadata": {
        "colab": {
          "base_uri": "https://localhost:8080/"
        },
        "id": "W0ZUEzlwk7i9",
        "outputId": "862531c9-fbd5-438f-f6bf-dc852872e1b9"
      },
      "execution_count": null,
      "outputs": [
        {
          "output_type": "stream",
          "name": "stdout",
          "text": [
            "True\n"
          ]
        }
      ]
    },
    {
      "cell_type": "markdown",
      "source": [
        "## Question 34:\n",
        "\n",
        "**Check String**\n",
        "\n",
        "If statement can be used to check strings as well.\n",
        "\n",
        "Make text = \"The best things in life are free\";\n",
        "\n",
        "Use if statement to check if \"expensive\" is NOT present in text;\n",
        "\n",
        "Print \"No, \"expensive\" is present\" if NOT present."
      ],
      "metadata": {
        "id": "cVDxKRoxYpp9"
      }
    },
    {
      "cell_type": "code",
      "source": [
        "text = \"The best things in life are free!\"\n",
        "\n",
        "if \"expensive\" not in text:\n",
        "  print(\"No, 'expensive' is not present.\")"
      ],
      "metadata": {
        "colab": {
          "base_uri": "https://localhost:8080/"
        },
        "id": "9B9Qp0FoliNA",
        "outputId": "be0be646-55ad-4352-ff14-c008a91b4c6a"
      },
      "execution_count": null,
      "outputs": [
        {
          "output_type": "stream",
          "name": "stdout",
          "text": [
            "No, 'expensive' is not present.\n"
          ]
        }
      ]
    },
    {
      "cell_type": "markdown",
      "source": [
        "## Question 35:\n",
        "\n",
        "**Slicing Strings**\n",
        "\n",
        "You can return a range of characters by using the slice syntax.\n",
        "\n",
        "Specify the start index and the end index, separated by a colon, to return a part of the string.\n",
        "\n",
        "Create a variable x and assign the string value of \"Hello World\";\n",
        "\n",
        "Get characters from position 2 to position 5(not included)."
      ],
      "metadata": {
        "id": "N68bluhhYqKs"
      }
    },
    {
      "cell_type": "code",
      "source": [
        "x = \"Hello World\"\n",
        "print(x[2:5])"
      ],
      "metadata": {
        "colab": {
          "base_uri": "https://localhost:8080/"
        },
        "id": "6eWNUwT0J_ll",
        "outputId": "ad912ad2-49b0-49ad-af84-96795b174159"
      },
      "execution_count": null,
      "outputs": [
        {
          "output_type": "stream",
          "name": "stdout",
          "text": [
            "llo\n"
          ]
        }
      ]
    },
    {
      "cell_type": "markdown",
      "source": [
        "## Question 36:\n",
        "\n",
        "**Slice from the start**\n",
        "\n",
        "By leaving out the start index, the range will start at the first character.\n",
        "\n",
        "Create a variable x and assign the string value of \"Hello World\";\n",
        "\n",
        "Get the characters from the start to the postion 5 (not included)."
      ],
      "metadata": {
        "id": "WQLnI2ELYqiM"
      }
    },
    {
      "cell_type": "code",
      "source": [
        "x = \"Hello World\"\n",
        "print(x[:5])"
      ],
      "metadata": {
        "colab": {
          "base_uri": "https://localhost:8080/"
        },
        "id": "LY12NMGAKkhS",
        "outputId": "df0ad2c0-cb3b-4304-ace8-0980d2008b05"
      },
      "execution_count": null,
      "outputs": [
        {
          "output_type": "stream",
          "name": "stdout",
          "text": [
            "Hello\n"
          ]
        }
      ]
    },
    {
      "cell_type": "markdown",
      "source": [
        "## Question 37:\n",
        "\n",
        "**Slice to the end**\n",
        "\n",
        "By leaving out the end index, the range will go to the end.\n",
        "\n",
        "Create a variable x and assign the string value of \"Hello World\";\n",
        "\n",
        "Get the characters from position 2, and all the way to the end."
      ],
      "metadata": {
        "id": "QtcYLedWYqzI"
      }
    },
    {
      "cell_type": "code",
      "source": [
        "x = \"Hello World\"\n",
        "print(x[2:])"
      ],
      "metadata": {
        "colab": {
          "base_uri": "https://localhost:8080/"
        },
        "id": "j3JQylXzLYsn",
        "outputId": "26d5b667-9fb7-4278-c994-86b759cbdf81"
      },
      "execution_count": null,
      "outputs": [
        {
          "output_type": "stream",
          "name": "stdout",
          "text": [
            "llo World\n"
          ]
        }
      ]
    },
    {
      "cell_type": "markdown",
      "source": [
        "## Question 38:\n",
        "\n",
        "**Negative Indexing**\n",
        "\n",
        "Use negative indexes to start the slice from the end of the string.\n",
        "\n",
        "Create a variable x and assign the string value of \"Hello World\";\n",
        "\n",
        "Get the characters:\n",
        "\n",
        "From: \"o\" in \"World!\" (position -5)\n",
        "\n",
        "To, but not included: \"d\" in \"World!\" (position -2)."
      ],
      "metadata": {
        "id": "eVkxhFIBYrFV"
      }
    },
    {
      "cell_type": "code",
      "source": [
        "x = \"Hello World\"\n",
        "print(x[-5:-2])"
      ],
      "metadata": {
        "colab": {
          "base_uri": "https://localhost:8080/"
        },
        "id": "JXqbriXeMC12",
        "outputId": "b569b2b2-387f-429e-f46f-ac692d55d67a"
      },
      "execution_count": null,
      "outputs": [
        {
          "output_type": "stream",
          "name": "stdout",
          "text": [
            "Wor\n"
          ]
        }
      ]
    },
    {
      "cell_type": "markdown",
      "source": [
        "## Question 39:\n",
        "\n",
        "**Modify Strings**\n",
        "\n",
        "**Upper Case**\n",
        "\n",
        "Create a variable x and assign the string value of \"Hello World\";\n",
        "\n",
        "Print in upper case."
      ],
      "metadata": {
        "id": "s4rDefOFYrW_"
      }
    },
    {
      "cell_type": "code",
      "source": [
        "x = \"Hello World\"\n",
        "print(x.upper())"
      ],
      "metadata": {
        "colab": {
          "base_uri": "https://localhost:8080/"
        },
        "id": "jRPL-yq-M9Ba",
        "outputId": "f128a135-34b7-42eb-e662-a7dd061568cc"
      },
      "execution_count": null,
      "outputs": [
        {
          "output_type": "stream",
          "name": "stdout",
          "text": [
            "HELLO WORLD\n"
          ]
        }
      ]
    },
    {
      "cell_type": "markdown",
      "source": [
        "## Question 40:\n",
        "\n",
        "**Modify Strings**\n",
        "\n",
        "**Lower Case**\n",
        "\n",
        "Create a variable x and assign the string value of \"Hello World\";\n",
        "\n",
        "Print in lower case."
      ],
      "metadata": {
        "id": "IKN8b7tKYrnk"
      }
    },
    {
      "cell_type": "code",
      "source": [
        "x = \"Hello World\"\n",
        "print(x.lower())"
      ],
      "metadata": {
        "colab": {
          "base_uri": "https://localhost:8080/"
        },
        "id": "tKfEQvafNJG_",
        "outputId": "fd39dc28-8f82-4fad-fb5d-4cc6489c6785"
      },
      "execution_count": null,
      "outputs": [
        {
          "output_type": "stream",
          "name": "stdout",
          "text": [
            "hello world\n"
          ]
        }
      ]
    },
    {
      "cell_type": "markdown",
      "source": [
        "## Question 41:\n",
        "\n",
        "**Modify Strings**\n",
        "\n",
        "**Remove Whitespace**\n",
        "\n",
        "Whitespace is the space before and/or after the actual text, and very often you want to remove this space.\n",
        "\n",
        "Create a variable x and assign the string value of \"Hello World\";\n",
        "\n",
        "Print without any whitespaces."
      ],
      "metadata": {
        "id": "NIxwJkm7Yr3y"
      }
    },
    {
      "cell_type": "code",
      "source": [
        "x = \"Hello World\"\n",
        "print(x.strip()) # returns \"Hello World\""
      ],
      "metadata": {
        "colab": {
          "base_uri": "https://localhost:8080/"
        },
        "id": "rbYHzQZyNetU",
        "outputId": "727c3015-1c22-4fa3-eb11-5f59d59e4d5f"
      },
      "execution_count": null,
      "outputs": [
        {
          "output_type": "stream",
          "name": "stdout",
          "text": [
            "Hello World\n"
          ]
        }
      ]
    },
    {
      "cell_type": "markdown",
      "source": [
        "## Question 42:\n",
        "\n",
        "**Modify Strings**\n",
        "\n",
        "**Replace()**\n",
        "\n",
        "Create a variable x and assign the string value of \"Hello World\";\n",
        "\n",
        "Replace \"H\" with \"J\" and print the original string."
      ],
      "metadata": {
        "id": "9xQIJZ8OY5Js"
      }
    },
    {
      "cell_type": "code",
      "source": [
        "x = \"Hello World\"\n",
        "print(x.replace(\"H\",\"J\"))"
      ],
      "metadata": {
        "colab": {
          "base_uri": "https://localhost:8080/"
        },
        "id": "mQ2GfbgJOdS8",
        "outputId": "190a579c-67df-4ffe-afb5-bd08c5867a76"
      },
      "execution_count": null,
      "outputs": [
        {
          "output_type": "stream",
          "name": "stdout",
          "text": [
            "Jello World\n"
          ]
        }
      ]
    },
    {
      "cell_type": "markdown",
      "source": [
        "## Question 43:\n",
        "\n",
        "**Modify Strings**\n",
        "\n",
        "**Split()**\n",
        "\n",
        "The split() methond returns a list where the text between the specified separator becomes the list itmes.\n",
        "\n",
        "The split() method splits the string into substrings if it finds instances of the separator.\n",
        "\n",
        "Create a variable x and assign the string value of \"Hello, World\";\n",
        "\n",
        "Separate x by the colon and print the result.\n",
        "\n"
      ],
      "metadata": {
        "id": "J1WFTm4GY62-"
      }
    },
    {
      "cell_type": "code",
      "source": [
        "x = \"Hello, World\"\n",
        "print(x.split(\",\"))"
      ],
      "metadata": {
        "colab": {
          "base_uri": "https://localhost:8080/"
        },
        "id": "jfGBnh0iPWol",
        "outputId": "1340d3a1-df8d-4ba9-cabe-9fb032837cac"
      },
      "execution_count": null,
      "outputs": [
        {
          "output_type": "stream",
          "name": "stdout",
          "text": [
            "['Hello', ' World']\n"
          ]
        }
      ]
    },
    {
      "cell_type": "markdown",
      "source": [
        "## Question 44:\n",
        "\n",
        "**String Concatenation**\n",
        "\n",
        "Create a string \"Hello\" and b string \"World\";\n",
        "\n",
        "Connect a and b together as c;\n",
        "\n",
        "Print c.\n",
        "\n",
        "Hint: In Python, use \"+\" sign to concate the strings."
      ],
      "metadata": {
        "id": "JIVOUtt_Y8hc"
      }
    },
    {
      "cell_type": "code",
      "source": [
        "a = \"Hello\"\n",
        "b = \"World\"\n",
        "c = a + b\n",
        "print(c)"
      ],
      "metadata": {
        "colab": {
          "base_uri": "https://localhost:8080/"
        },
        "id": "U7V3Am1APxfu",
        "outputId": "f7cede23-bc88-4a79-f27b-22708f6fb96f"
      },
      "execution_count": null,
      "outputs": [
        {
          "output_type": "stream",
          "name": "stdout",
          "text": [
            "HelloWorld\n"
          ]
        }
      ]
    },
    {
      "cell_type": "markdown",
      "source": [
        "## Question 45:\n",
        "\n",
        "**Format String (One argument)**\n",
        "\n",
        "As we learned in the Python Variables chapter, we cannot combine strings and numbers.\n",
        "\n",
        "But we can combine strings and numbers by using the format() method!\n",
        "\n",
        "The format() method takes the passed arguments, formats them, and places them in the string where the placeholders {} are.\n",
        "\n",
        "Create a variable age = 28 and txt = \"My name is Nick, and I am {}\"\n",
        "\n",
        "Using format() method to print \"My name is Nick, I am 36\" using format() method."
      ],
      "metadata": {
        "id": "LPso7fREY-GK"
      }
    },
    {
      "cell_type": "code",
      "source": [
        "age = 28\n",
        "txt = \"My name is Nick, and I am {}\"\n",
        "print(txt.format(age))"
      ],
      "metadata": {
        "colab": {
          "base_uri": "https://localhost:8080/"
        },
        "id": "Anr_qKwkQiK5",
        "outputId": "9f9d14ba-fe5a-4c83-e51d-2f0343ca64c3"
      },
      "execution_count": null,
      "outputs": [
        {
          "output_type": "stream",
          "name": "stdout",
          "text": [
            "My name is Nick, and I am 28\n"
          ]
        }
      ]
    },
    {
      "cell_type": "markdown",
      "source": [
        "## Question 46:\n",
        "\n",
        "**Format String (Multiple Arguments)**\n",
        "\n",
        "The format() can take unlimited number of arguments, and are placed into the respective placeholders.\n",
        "\n",
        "Make quantity = 3 and itemno =567 and price = 100;\n",
        "\n",
        "Using format() method to print \"I want 3 pieces of item 567 for 100 dollars.\""
      ],
      "metadata": {
        "id": "7BtrS2avY_w2"
      }
    },
    {
      "cell_type": "code",
      "source": [
        "quantity = 3\n",
        "itemno =567\n",
        "price = 100\n",
        "myorder = \"I want {} pieces of item {} for {} dollars.\"\n",
        "print(myorder.format(quantity, itemno, price))"
      ],
      "metadata": {
        "colab": {
          "base_uri": "https://localhost:8080/"
        },
        "id": "wGxuldgPt_96",
        "outputId": "374b0766-e114-4530-ccc4-ca1f8def1e3d"
      },
      "execution_count": null,
      "outputs": [
        {
          "output_type": "stream",
          "name": "stdout",
          "text": [
            "I want 3 pieces of item 567 for 100 dollars.\n"
          ]
        }
      ]
    },
    {
      "cell_type": "markdown",
      "source": [
        "## Question 47:\n",
        "\n",
        "**Format String (Indexed)**\n",
        "\n",
        "You can use index numbers {0} to be sure the arguments are placed in the correct placeholders.\n",
        "\n",
        "Make quantity = 3 and itemno =567 and price = 100;\n",
        "Using formmat() method to print \"I want pay 100 dollars for 3 pieces of item 567.\""
      ],
      "metadata": {
        "id": "VcRiYGpjZBNQ"
      }
    },
    {
      "cell_type": "code",
      "source": [
        "quantity = 3\n",
        "itemno = 567\n",
        "price = 49.95\n",
        "myorder = \"I want to pay {2} dollars for {0} pieces of item {1}.\"\n",
        "print(myorder.format(quantity, itemno, price))"
      ],
      "metadata": {
        "colab": {
          "base_uri": "https://localhost:8080/"
        },
        "id": "NAIhksUsvGMH",
        "outputId": "b7ce0b4b-e342-4c69-8dae-3ea4b15cf71e"
      },
      "execution_count": null,
      "outputs": [
        {
          "output_type": "stream",
          "name": "stdout",
          "text": [
            "I want to pay 49.95 dollars for 3 pieces of item 567.\n"
          ]
        }
      ]
    },
    {
      "cell_type": "markdown",
      "source": [
        "## Question 48:\n",
        "\n",
        "**Escape Character**\n",
        "\n",
        "To insert character that are illegal in a string, use an escape character.\n",
        "\n",
        "An escape character is a backslash \\ followed by the character you want to insert.\n",
        "\n",
        "You will get an error if you use double quotes inside a string that is surrounded by double quotes as followed:\n",
        "\n",
        "txt = \"We are the so-called \"Vikings\" from the north.\"\n",
        "\n",
        "Use escape character to fix the illegal character and show double quotes outside Vikings when printed."
      ],
      "metadata": {
        "id": "7IagRvXYZCpu"
      }
    },
    {
      "cell_type": "code",
      "source": [
        "txt = \"We are the so-called \\\"Vikings\\\" from the north.\"\n",
        "print(txt)"
      ],
      "metadata": {
        "colab": {
          "base_uri": "https://localhost:8080/"
        },
        "id": "fae5Gi2EwpOV",
        "outputId": "b13824f7-14b8-46c8-b6a1-d204bb2580e5"
      },
      "execution_count": null,
      "outputs": [
        {
          "output_type": "stream",
          "name": "stdout",
          "text": [
            "We are the so-called \"Vikings\" from the north.\n"
          ]
        }
      ]
    },
    {
      "cell_type": "markdown",
      "source": [
        "## Q48 Hint:\n",
        "\n",
        "**Escape Character**\n",
        "\n",
        "Other escape character used in Python:\n",
        "\n",
        "\\'\t  Single Quote\t\n",
        "\\\\\t  Backslash\t\n",
        "\\n\t  New Line\t\n",
        "\\r\t  Carriage Return\t\n",
        "\\t\t  Tab\t\n",
        "\\b\t  Backspace\t\n",
        "\\f\t  Form Feed\t\n",
        "\\ooo\tOctal value\t\n",
        "\\xhh\tHex value"
      ],
      "metadata": {
        "id": "PLxoPavJxNiQ"
      }
    },
    {
      "cell_type": "markdown",
      "source": [
        "## Python - String Methods\n",
        "\n",
        "**Method Description**\n",
        "\n",
        "capitalize()   Converts the first character to upper case\n",
        "\n",
        "casefold()\t   Converts string into lower case\n",
        "\n",
        "center()\t     Returns a centered string\n",
        "\n",
        "count()\t       Returns the number of times a specified value \n",
        "occurs in a string\n",
        "\n",
        "encode()\t     Returns an encoded version of the string\n",
        "\n",
        "endswith()\t   Returns true if the string ends with the specified value\n",
        "\n",
        "expandtabs()\t Sets the tab size of the string\n",
        "\n",
        "find()\t        Searches the string for a specified value and returns the position of where it was found\n",
        "\n",
        "format()\t     Formats specified values in a string\n",
        "\n",
        "format_map()\t Formats specified values in a string\n",
        "\n",
        "index()\t       Searches the string for a specified value and returns the position of where it was found\n",
        "\n",
        "isalnum()\t     Returns True if all characters in the string are alphanumeric\n",
        "\n",
        "isalpha()\t     Returns True if all characters in the string are in the alphabet\n",
        "\n",
        "isdecimal()\t   Returns True if all characters in the string are decimals\n",
        "\n",
        "isdigit()\t     Returns True if all characters in the string are digits\n",
        "\n",
        "isidentifier()\tReturns True if the string is an identifier\n",
        "\n",
        "islower()\t     Returns True if all characters in the string are lower case\n",
        "\n",
        "isnumeric()\t   Returns True if all characters in the string are numeric\n",
        "\n",
        "isprintable()\t Returns True if all characters in the string are printable\n",
        "\n",
        "isspace()\t     Returns True if all characters in the string are whitespaces\n",
        "\n",
        "istitle()\t     Returns True if the string follows the rules of a title\n",
        "\n",
        "isupper()\t     Returns True if all characters in the string are upper case\n",
        "\n",
        "join()\t       Joins the elements of an iterable to the end of the string\n",
        "\n",
        "ljust()\t       Returns a left justified version of the string\n",
        "\n",
        "lower()\t       Converts a string into lower case\n",
        "\n",
        "lstrip()\t     Returns a left trim version of the string\n",
        "\n",
        "maketrans()\t   Returns a translation table to be used in translations\n",
        "\n",
        "partition()\t   Returns a tuple where the string is parted into three parts\n",
        "\n",
        "replace()\t     Returns a string where a specified value is replaced with a specified value\n",
        "\n",
        "rfind()\t        Searches the string for a specified value and returns the last position of where it was found\n",
        "\n",
        "rindex()\t     Searches the string for a specified value and returns the last position of where it was found\n",
        "\n",
        "rjust()\t       Returns a right justified version of the string\n",
        "\n",
        "rpartition()\t Returns a tuple where the string is parted into three parts\n",
        "\n",
        "rsplit()\t     Splits the string at the specified separator, and returns a list\n",
        "\n",
        "rstrip()\t     Returns a right trim version of the string\n",
        "\n",
        "split()\t       Splits the string at the specified separator, and returns a list\n",
        "\n",
        "splitlines()\tSplits the string at line breaks and returns a list\n",
        "\n",
        "startswith()\tReturns true if the string starts with the specified value\n",
        "\n",
        "strip()\t      Returns a trimmed version of the string\n",
        "\n",
        "swapcase()\t  Swaps cases, lower case becomes upper case and vice versa\n",
        "\n",
        "title()\t      Converts the first character of each word to upper case\n",
        "\n",
        "translate()\t  Returns a translated string\n",
        "\n",
        "upper()\t      Converts a string into upper case\n",
        "\n",
        "zfill()\t       Fills the string with a specified number of 0 values at the beginning"
      ],
      "metadata": {
        "id": "pNyyoQeYx8iu"
      }
    },
    {
      "cell_type": "markdown",
      "source": [
        "## Question 49:\n",
        "\n",
        "**Boolean**\n",
        "\n",
        "Create a variable x =200 and y = 33;\n",
        "\n",
        "Use if statement to compare x and y;\n",
        "\n",
        "If x > y, output \"x is greater than y.\";\n",
        "\n",
        "If x < y, output \"y is greater than x.\"."
      ],
      "metadata": {
        "id": "7uC6BUDaZEE3"
      }
    },
    {
      "cell_type": "code",
      "source": [
        "x = 200\n",
        "y = 33\n",
        "\n",
        "if x >y:\n",
        "  print(\"x is greater than y.\")\n",
        "else:\n",
        "  print(\"y is greater than x.\")"
      ],
      "metadata": {
        "colab": {
          "base_uri": "https://localhost:8080/"
        },
        "id": "Si6TjoSg00uE",
        "outputId": "c22e5163-8ca9-413d-ecb9-c96d6375534b"
      },
      "execution_count": null,
      "outputs": [
        {
          "output_type": "stream",
          "name": "stdout",
          "text": [
            "x is greater than y.\n"
          ]
        }
      ]
    },
    {
      "cell_type": "markdown",
      "source": [
        "## Question 50:\n",
        "\n",
        "**Boolean**\n",
        "\n",
        "Print the following values and see if the value is true or false.\n",
        "\n",
        "- bool(\"abc\")\n",
        "- bool(123)\n",
        "- bool([\"apple\", \"cherry\", \"banana\"])\n",
        "\n",
        "- bool(False)\n",
        "- bool(None)\n",
        "- bool(0)\n",
        "- bool(\"\")\n",
        "- bool(())\n",
        "- bool([])\n",
        "- bool({})"
      ],
      "metadata": {
        "id": "CTFv3UMfZFe4"
      }
    },
    {
      "cell_type": "code",
      "source": [
        "print(bool(\"abc\"))\n",
        "print(bool(123))\n",
        "print(bool([\"apple\", \"cherry\", \"banana\"]))\n",
        "\n",
        "print(bool(False))\n",
        "print(bool(None))\n",
        "print(bool(0))\n",
        "print(bool(\"\"))\n",
        "print(bool(()))\n",
        "print(bool([]))\n",
        "print(bool({}))"
      ],
      "metadata": {
        "colab": {
          "base_uri": "https://localhost:8080/"
        },
        "id": "f6KL-EaT105l",
        "outputId": "9a1ab43f-6e8d-43f2-f414-30c5516325b5"
      },
      "execution_count": null,
      "outputs": [
        {
          "output_type": "stream",
          "name": "stdout",
          "text": [
            "True\n",
            "True\n",
            "True\n",
            "False\n",
            "False\n",
            "False\n",
            "False\n",
            "False\n",
            "False\n",
            "False\n"
          ]
        }
      ]
    },
    {
      "cell_type": "markdown",
      "source": [
        "## Question 51:\n",
        "\n",
        "**Functions can return a boolean**\n",
        "\n",
        "You can create functions that returns a Boolean Value.\n",
        "\n",
        "Create a function to return True;\n",
        "\n",
        "Print the function."
      ],
      "metadata": {
        "id": "RWZF2nbT2Zwh"
      }
    },
    {
      "cell_type": "code",
      "source": [
        "def myfunc():\n",
        "  return True\n",
        "\n",
        "myfunc()"
      ],
      "metadata": {
        "colab": {
          "base_uri": "https://localhost:8080/"
        },
        "id": "0RYtD42s5efm",
        "outputId": "6586c9f1-d268-44d9-d9fa-30571ccb77d8"
      },
      "execution_count": null,
      "outputs": [
        {
          "output_type": "execute_result",
          "data": {
            "text/plain": [
              "True"
            ]
          },
          "metadata": {},
          "execution_count": 10
        }
      ]
    },
    {
      "cell_type": "markdown",
      "source": [
        "## Question 52:\n",
        "\n",
        "**Class can return a Boolean**\n",
        "\n",
        "Create a class to return 0;\n",
        "\n",
        "Make myobj = myclass();\n",
        "\n",
        "Print the boolean value of myobj."
      ],
      "metadata": {
        "id": "SdZZ3efy2dpP"
      }
    },
    {
      "cell_type": "code",
      "source": [
        "class myclass():\n",
        "  def __len__(self):\n",
        "    return 0\n",
        "\n",
        "myobj = myclass()\n",
        "print(bool(myobj))"
      ],
      "metadata": {
        "colab": {
          "base_uri": "https://localhost:8080/"
        },
        "id": "m1VcvRuU55R7",
        "outputId": "4e307b8c-e744-4e40-c442-2a164dd73431"
      },
      "execution_count": null,
      "outputs": [
        {
          "output_type": "stream",
          "name": "stdout",
          "text": [
            "False\n"
          ]
        }
      ]
    },
    {
      "cell_type": "markdown",
      "source": [
        "## Question 53:\n",
        "\n",
        "**isinstance()**\n",
        "\n",
        "Python also has many built_in functions that return a boolean value, like the isinstance() function, which can be used to determine if an object is of a certain data type.\n",
        "\n",
        "Create a variable x =200;\n",
        "\n",
        "Use isinstance() to check if an object is an integer or not."
      ],
      "metadata": {
        "id": "K6gmMqk-2eRO"
      }
    },
    {
      "cell_type": "code",
      "source": [
        "x = 200\n",
        "\n",
        "print(isinstance(x, int))"
      ],
      "metadata": {
        "colab": {
          "base_uri": "https://localhost:8080/"
        },
        "id": "c6jlkM7V6oy5",
        "outputId": "abfb5cac-bfb2-4002-ce0c-6d461947e0ad"
      },
      "execution_count": null,
      "outputs": [
        {
          "output_type": "stream",
          "name": "stdout",
          "text": [
            "True\n"
          ]
        }
      ]
    },
    {
      "cell_type": "markdown",
      "source": [
        "## Question 54:\n",
        "\n",
        "**List**\n",
        "\n",
        "List are used to store mutiple items in a single variable.\n",
        "\n",
        "Lists are one of 4 built-in data types in Python used to store collections of data, the other 3 are Tuple, Set, and dictionary, all with different qualities and usage.\n",
        "\n",
        "Lists are created using square brackets.\n",
        "\n",
        "Create a list with elements being \"apple\", \"banana\" and \"cherry\".\n",
        "print the list."
      ],
      "metadata": {
        "id": "CXTiMikQ2e8m"
      }
    },
    {
      "cell_type": "code",
      "source": [
        "thislist = [\"apple\",\"banana\",\"cherry\"]\n",
        "print(thislist)"
      ],
      "metadata": {
        "colab": {
          "base_uri": "https://localhost:8080/"
        },
        "id": "bAPEwTMSWckn",
        "outputId": "8345bad1-a586-4001-ad19-6b6f38f78bf2"
      },
      "execution_count": 1,
      "outputs": [
        {
          "output_type": "stream",
          "name": "stdout",
          "text": [
            "['apple', 'banana', 'cherry']\n"
          ]
        }
      ]
    },
    {
      "cell_type": "markdown",
      "source": [
        "## Question 55:\n",
        "\n",
        "**ordered, changeable, allow duplicate values**\n",
        "\n",
        "List items are ordered, changeable, and allow duplicate values.\n",
        "\n",
        "List items are indexed, the first item has index[0], the second item has index[1] etc.\n",
        "\n",
        "1. When we say that lists are ordered, it means: if you add new items to a list, the new items will be placed at the end of the list.\n",
        "\n",
        "2. The list is changeable, meaning that we can change, add, and remove items in a list after it has been created.\n",
        "\n",
        "3. Since lists are indexed, lists can have items with the same value.\n",
        "\n",
        "Try to create a list with the following elements and print the list to check if it works.\n",
        "\n",
        "\"apple\", \"banana\", \"cherry\", \"apple\", \"cherry\"\n"
      ],
      "metadata": {
        "id": "_NyRRxxI2fgV"
      }
    },
    {
      "cell_type": "code",
      "source": [
        "thislist = [\"apple\",\"banana\",\"cherry\",\"apple\",\"cherry\"]\n",
        "print(thislist)"
      ],
      "metadata": {
        "colab": {
          "base_uri": "https://localhost:8080/"
        },
        "id": "-7tDD-NpYG0F",
        "outputId": "f722050b-0803-4da8-d9ff-ad51b2fea036"
      },
      "execution_count": 2,
      "outputs": [
        {
          "output_type": "stream",
          "name": "stdout",
          "text": [
            "['apple', 'banana', 'cherry', 'apple', 'cherry']\n"
          ]
        }
      ]
    },
    {
      "cell_type": "markdown",
      "source": [
        "## Question 56:\n",
        "\n",
        "**List Length**\n",
        "\n",
        "Print the number of items in the following list:\n",
        "\n",
        "[\"apple\",\"banana\",\"cherry\"]"
      ],
      "metadata": {
        "id": "PTmZubjE2gEZ"
      }
    },
    {
      "cell_type": "code",
      "source": [
        "thislist = [\"apple\",\"banana\",\"cherry\"]\n",
        "print(len(thislist))"
      ],
      "metadata": {
        "colab": {
          "base_uri": "https://localhost:8080/"
        },
        "id": "E3lShJ1yYgr-",
        "outputId": "52527d80-e494-49f1-fdd5-4c0fa88a8aae"
      },
      "execution_count": 4,
      "outputs": [
        {
          "output_type": "stream",
          "name": "stdout",
          "text": [
            "3\n"
          ]
        }
      ]
    },
    {
      "cell_type": "markdown",
      "source": [
        "## Question 57:\n",
        "\n",
        "**List items - Data types**\n",
        "\n",
        "List items can be of any data types.\n",
        "\n",
        "Try to create lists with the following elements and print them to check if lists can contain different data types.\n",
        "\n",
        "- list1 = [\"apple\", \"banana\", \"cherry\"]\n",
        "- list2 = [1, 5, 7, 9, 3]\n",
        "- list3 = [True, False, False]\n",
        "- list4 = [\"abc\", 34, True, 40, \"male\"]"
      ],
      "metadata": {
        "id": "1Jq7BB5m2gvS"
      }
    },
    {
      "cell_type": "code",
      "source": [
        "list1 = [\"apple\", \"banana\", \"cherry\"]\n",
        "list2 = [1, 5, 7, 9, 3]\n",
        "list3 = [True, False, False]\n",
        "list4 = [\"abc\", 34, True, 40, \"male\"]\n",
        "\n",
        "print(list1, list2, list3,list4)"
      ],
      "metadata": {
        "colab": {
          "base_uri": "https://localhost:8080/"
        },
        "id": "A3EIMS9pZKC0",
        "outputId": "3120469e-e3d0-4aba-e95c-c52bccf6a9d5"
      },
      "execution_count": 5,
      "outputs": [
        {
          "output_type": "stream",
          "name": "stdout",
          "text": [
            "['apple', 'banana', 'cherry'] [1, 5, 7, 9, 3] [True, False, False] ['abc', 34, True, 40, 'male']\n"
          ]
        }
      ]
    },
    {
      "cell_type": "markdown",
      "source": [
        "## Question 58:\n",
        "\n",
        "**The data type of list**\n",
        "\n",
        "Use type() methond to check the data type of the following list:\n",
        "\n",
        "mylist = [\"apple\", \"banana\", \"cherry\"]"
      ],
      "metadata": {
        "id": "1vxgwhfd2hUr"
      }
    },
    {
      "cell_type": "code",
      "source": [
        "mylist = [\"apple\", \"banana\", \"cherry\"]\n",
        "\n",
        "print(type(mylist))"
      ],
      "metadata": {
        "colab": {
          "base_uri": "https://localhost:8080/"
        },
        "id": "_BBkyDpDZ0yI",
        "outputId": "98ec7bf0-8bc8-465b-c643-fe3b9d195390"
      },
      "execution_count": 7,
      "outputs": [
        {
          "output_type": "stream",
          "name": "stdout",
          "text": [
            "<class 'list'>\n"
          ]
        }
      ]
    },
    {
      "cell_type": "markdown",
      "source": [
        "## Question 59:\n",
        "\n",
        "**The list() Constructor**\n",
        "\n",
        "The other way to create a list to use the list() constructor.\n",
        "\n",
        "use list() to make a list [\"apple\",\"banana\",\"cherry\"] and print the list."
      ],
      "metadata": {
        "id": "dNfprprq2h7Y"
      }
    },
    {
      "cell_type": "code",
      "source": [
        "# Note the double round-brackets.\n",
        "thislist = list((\"apple\",\"banana\",\"cherry\"))\n",
        "print(thislist)"
      ],
      "metadata": {
        "colab": {
          "base_uri": "https://localhost:8080/"
        },
        "id": "YOGHTYOcaQy1",
        "outputId": "664e8707-6b43-41a2-878f-c11e0873a12c"
      },
      "execution_count": 8,
      "outputs": [
        {
          "output_type": "stream",
          "name": "stdout",
          "text": [
            "['apple', 'banana', 'cherry']\n"
          ]
        }
      ]
    },
    {
      "cell_type": "markdown",
      "source": [
        "## Question 60:\n",
        "\n",
        "**Negative Indexing**\n",
        "\n",
        "Negative indexing means start from the end.\n",
        "\n",
        "-1 refers to the last item, -2 refers to the second last item etc.\n",
        "\n",
        "Print the last item of the list:\n",
        "\n",
        "thislist = [\"apple\",\"banana\",\"cherry\"]"
      ],
      "metadata": {
        "id": "I0IjaL4W2if3"
      }
    },
    {
      "cell_type": "code",
      "source": [
        "thislist = [\"apple\",\"banana\",\"cherry\"]\n",
        "print(thislist[-1])"
      ],
      "metadata": {
        "colab": {
          "base_uri": "https://localhost:8080/"
        },
        "id": "noC0DVhdICPT",
        "outputId": "e0ffdeef-e514-43e5-9d12-07bf1279eb49"
      },
      "execution_count": 2,
      "outputs": [
        {
          "output_type": "stream",
          "name": "stdout",
          "text": [
            "cherry\n"
          ]
        }
      ]
    },
    {
      "cell_type": "markdown",
      "source": [
        "## Question 61:\n",
        "\n",
        "**Range of Negative Indexes**\n",
        "\n",
        "Specify negative indexes if you want to start the search from the end of the list.\n",
        "\n",
        "Make the following list: \n",
        "\n",
        "thislist = [\"apple\", \"banana\", \"cherry\", \"orange\", \"kiwi\", \"melon\", \"mango\"]\n",
        "\n",
        "Return the items from \"orange\"(-4) to, but NOT including \"mango\"(-1).\n"
      ],
      "metadata": {
        "id": "uMYO89dX2jHD"
      }
    },
    {
      "cell_type": "code",
      "source": [
        "thislist = list((\"apple\", \"banana\", \"cherry\", \"orange\", \"kiwi\", \"melon\", \"mango\"))\n",
        "print(thislist[-4:-1])"
      ],
      "metadata": {
        "colab": {
          "base_uri": "https://localhost:8080/"
        },
        "id": "yOJK6T3ZInWO",
        "outputId": "49ff415c-58a6-44ee-d6fd-f255f3b70502"
      },
      "execution_count": 3,
      "outputs": [
        {
          "output_type": "stream",
          "name": "stdout",
          "text": [
            "['orange', 'kiwi', 'melon']\n"
          ]
        }
      ]
    },
    {
      "cell_type": "markdown",
      "source": [
        "## Question 62:\n",
        "\n",
        "**Check if item exists**\n",
        "\n",
        "To determine if a specified item is present in a list use the in keyword.\n",
        "\n",
        "Check if \"apple\" is in the following list:\n",
        "\n",
        "thislist = [\"apple\",\"banana\",\"cherry\"]"
      ],
      "metadata": {
        "id": "jFYPa3TA2jvb"
      }
    },
    {
      "cell_type": "code",
      "source": [
        "thislist = [\"apple\",\"banana\",\"cherry\"]\n",
        "if \"apple\" in thislist:\n",
        "  print(\"Yes, 'apple' is in the fruits list.\")"
      ],
      "metadata": {
        "colab": {
          "base_uri": "https://localhost:8080/"
        },
        "id": "YeFrCgVzJHzB",
        "outputId": "0a2ecda2-f1ab-4442-a874-8bf2ee001576"
      },
      "execution_count": 4,
      "outputs": [
        {
          "output_type": "stream",
          "name": "stdout",
          "text": [
            "yes, 'apple' is in the fruits list.\n"
          ]
        }
      ]
    },
    {
      "cell_type": "markdown",
      "source": [
        "## Question 63:\n",
        "\n",
        "**Change Item Value**\n",
        "\n",
        "To change the value of a specific item, refer to the index number.\n",
        "\n",
        "thislist = [\"apple\",\"banana\",\"cherry\"]\n",
        "\n",
        "Change the second item to \"blackcurrant\" and print the list."
      ],
      "metadata": {
        "id": "KzeldFQH2kTC"
      }
    },
    {
      "cell_type": "code",
      "source": [
        "thislist = list((\"apple\",\"banana\",\"cherry\"))\n",
        "thislist[1] = \"blackcurrant\"\n",
        "print(thislist)"
      ],
      "metadata": {
        "colab": {
          "base_uri": "https://localhost:8080/"
        },
        "id": "jahQONa1KLpW",
        "outputId": "ceff7fbd-cb63-411e-ca92-f8f342876e6a"
      },
      "execution_count": 5,
      "outputs": [
        {
          "output_type": "stream",
          "name": "stdout",
          "text": [
            "['apple', 'blackcurrant', 'cherry']\n"
          ]
        }
      ]
    },
    {
      "cell_type": "markdown",
      "source": [
        "## Question 64:\n",
        "\n",
        "**Change a Range of Item Values**\n",
        "\n",
        "thislist = [\"apple\", \"banana\", \"cherry\", \"orange\", \"kiwi\", \"mango\"]\n",
        "\n",
        "Change the values \"banana\" and \"cherry\" with the values \"blackcurrant\" and \"watermelon\".\n",
        "\n",
        "Return the list."
      ],
      "metadata": {
        "id": "dGPtqqWx2k67"
      }
    },
    {
      "cell_type": "code",
      "source": [
        "thislist = [\"apple\", \"banana\", \"cherry\", \"orange\", \"kiwi\", \"mango\"]\n",
        "thislist[1:3] = [\"blackcurrant\",\"watermelon\"]\n",
        "print(thislist)"
      ],
      "metadata": {
        "colab": {
          "base_uri": "https://localhost:8080/"
        },
        "id": "UHVGEbykLAyG",
        "outputId": "3d7f980c-0911-41ef-f811-536377314939"
      },
      "execution_count": 6,
      "outputs": [
        {
          "output_type": "stream",
          "name": "stdout",
          "text": [
            "['apple', 'blackcurrant', 'watermelon', 'orange', 'kiwi', 'mango']\n"
          ]
        }
      ]
    },
    {
      "cell_type": "markdown",
      "source": [
        "## Question 65:\n",
        "\n",
        "**Insert more values**\n",
        "\n",
        "If you insert more items than you replace, the new items will be inserted where you specified, and the remaining items will move accordingly.\n",
        "\n",
        "Make thislist = [\"apple\", \"banana\", \"cherry\"]\n",
        "\n",
        "Replace the second item with \"blackcurrant\" and \"watermelon\".\n",
        "\n",
        "Print the list to see what happens."
      ],
      "metadata": {
        "id": "kTeWYEwpLaik"
      }
    },
    {
      "cell_type": "code",
      "source": [
        "thislist = [\"apple\", \"banana\", \"cherry\"]\n",
        "thislist[1:2] = [\"blackcurrant\",\"watermelon\"]\n",
        "print(thislist)"
      ],
      "metadata": {
        "colab": {
          "base_uri": "https://localhost:8080/"
        },
        "id": "bIKwaQgUN4-w",
        "outputId": "f381e820-a76c-4491-87a8-a1b6b5d2f53b"
      },
      "execution_count": 7,
      "outputs": [
        {
          "output_type": "stream",
          "name": "stdout",
          "text": [
            "['apple', 'blackcurrant', 'watermelon', 'cherry']\n"
          ]
        }
      ]
    },
    {
      "cell_type": "markdown",
      "source": [
        "## Question 66:\n",
        "\n",
        "**Insert less values**\n",
        "\n",
        "If you insert less items than you replace, the new items will be inserted where you specified, and the remaining items will move accordingly.\n",
        "\n",
        "Make thislist = [\"apple\",\"banana\",\"cherry\"]\n",
        "\n",
        "Replace the second and third items with \"watermelon\".\n",
        "\n",
        "Print the list."
      ],
      "metadata": {
        "id": "mZRECbkZODHt"
      }
    },
    {
      "cell_type": "code",
      "source": [
        "thislist = [\"apple\",\"banana\",\"cherry\"]\n",
        "thislist[1:3] = [\"watermelon\"]\n",
        "print(thislist)"
      ],
      "metadata": {
        "colab": {
          "base_uri": "https://localhost:8080/"
        },
        "id": "GGj1FKP_ObhZ",
        "outputId": "44904df2-9ab0-4b51-d0d7-1c60f3a5bc94"
      },
      "execution_count": 8,
      "outputs": [
        {
          "output_type": "stream",
          "name": "stdout",
          "text": [
            "['apple', 'w', 'a', 't', 'e', 'r', 'm', 'e', 'l', 'o', 'n']\n"
          ]
        }
      ]
    },
    {
      "cell_type": "markdown",
      "source": [
        "## Question 67:\n",
        "\n",
        "**Insert Items**\n",
        "\n",
        "To insert a new list item, without replacing any of the existing values, we can use the insert() method.\n",
        "\n",
        "Make thislist = [\"apple\",\"banana\",\"cherry\"]\n",
        "\n",
        "Insert \"watermelon\" after \"banana\".\n",
        "\n",
        "Print thislist"
      ],
      "metadata": {
        "id": "xx6cz0TSOyd8"
      }
    },
    {
      "cell_type": "code",
      "source": [
        "thislist = list((\"apple\",\"banana\",\"cherry\"))\n",
        "thislist.insert(2,\"watermelon\")\n",
        "print(thislist)"
      ],
      "metadata": {
        "colab": {
          "base_uri": "https://localhost:8080/"
        },
        "id": "yHIri7fZPPPJ",
        "outputId": "66fb1e47-2f37-4d23-940d-46457fbeac14"
      },
      "execution_count": 12,
      "outputs": [
        {
          "output_type": "stream",
          "name": "stdout",
          "text": [
            "['apple', 'banana', 'watermelon', 'cherry']\n"
          ]
        }
      ]
    },
    {
      "cell_type": "markdown",
      "source": [
        "# Python File Handling"
      ],
      "metadata": {
        "id": "xhuJoTdyGuMt"
      }
    },
    {
      "cell_type": "markdown",
      "source": [
        "# Python Database Handling"
      ],
      "metadata": {
        "id": "FMf2ysWvGyTY"
      }
    }
  ]
}